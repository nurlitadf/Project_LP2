{
 "cells": [
  {
   "cell_type": "code",
   "execution_count": null,
   "metadata": {
    "collapsed": true
   },
   "outputs": [],
   "source": [
    "import sys\n",
    "import os\n",
    "import comtypes.client\n",
    "from PythonMagick import Image\n",
    "from pyPdf import PdfFileReader\n",
    "\n",
    "wdFormatPDF = 17\n",
    "\n",
    "in_file = os.path.abspath(\"C:\\Users\\User\\Desktop\\word.docx\")\n",
    "out_file = os.path.abspath(\"C:\\Users\\User\\Desktop\\word.pdf\")"
   ]
  },
  {
   "cell_type": "code",
   "execution_count": null,
   "metadata": {
    "collapsed": false
   },
   "outputs": [],
   "source": [
    "word = comtypes.client.CreateObject('Word.Application')\n",
    "doc = word.Documents.Open(in_file)\n",
    "doc.SaveAs(out_file, FileFormat=wdFormatPDF)\n",
    "doc.Close()\n",
    "word.Quit()"
   ]
  },
  {
   "cell_type": "code",
   "execution_count": null,
   "metadata": {
    "collapsed": false
   },
   "outputs": [],
   "source": [
    "pdf_dir = \"C:\\Users\\User\\Desktop\\word.pdf\"\n",
    "bg_colour = \"#ffffff\"\n",
    "\n",
    "filePdf = open(pdf_dir)\n",
    "myfile=PdfFileReader(filePdf)"
   ]
  }
 ],
 "metadata": {
  "anaconda-cloud": {},
  "kernelspec": {
   "display_name": "Python [conda root]",
   "language": "python",
   "name": "conda-root-py"
  },
  "language_info": {
   "codemirror_mode": {
    "name": "ipython",
    "version": 2
   },
   "file_extension": ".py",
   "mimetype": "text/x-python",
   "name": "python",
   "nbconvert_exporter": "python",
   "pygments_lexer": "ipython2",
   "version": "2.7.12"
  }
 },
 "nbformat": 4,
 "nbformat_minor": 1
}
